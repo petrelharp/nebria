{
 "cells": [
  {
   "cell_type": "code",
   "execution_count": 42,
   "id": "a80725ca-2eaf-44f4-9d31-0cd8b6281b5d",
   "metadata": {},
   "outputs": [],
   "source": [
    "import sys\n",
    "import numpy as np\n",
    "\n",
    "import matplotlib\n",
    "matplotlib.use('Agg')\n",
    "import matplotlib.pyplot as plt\n",
    "import pandas as pd\n",
    "\n",
    "import tskit"
   ]
  },
  {
   "cell_type": "code",
   "execution_count": 4,
   "id": "daaccb41-541e-4bd5-8a60-d546b46965f4",
   "metadata": {},
   "outputs": [],
   "source": [
    "treefile = \"../param_grid/post_21000_2022-12-05/run_2022-12-05_000018/sim_1876298096991.trees\"\n",
    "outbase = \".\".join(treefile.split(\".\")[:-1])\n",
    "\n",
    "ts = tskit.load(treefile)\n",
    "params = ts.metadata['SLiM']['user_metadata']\n",
    "\n",
    "indiv_times = ts.individual_times\n",
    "indiv_pops = ts.individual_populations\n",
    "indiv_locs = ts.individual_locations"
   ]
  },
  {
   "cell_type": "code",
   "execution_count": 8,
   "id": "471340b9-c572-44d6-80ee-6bd6b6818a57",
   "metadata": {},
   "outputs": [],
   "source": [
    "modern = np.logical_and(\n",
    "        indiv_times < 100,\n",
    "        indiv_pops == 1\n",
    ")\n",
    "target_indivs = [\n",
    "    np.where(np.logical_and(\n",
    "        modern,\n",
    "        indiv_locs[:, 1] == np.max(indiv_locs[modern, 1]),\n",
    "    ))[0][0],\n",
    "    np.where(np.logical_and(\n",
    "        modern,\n",
    "        indiv_locs[:, 1] == np.min(indiv_locs[modern, 1]),\n",
    "    ))[0][0],\n",
    "]\n"
   ]
  },
  {
   "cell_type": "code",
   "execution_count": 10,
   "id": "f523324d-ff8b-406c-b12d-c771a425ef95",
   "metadata": {},
   "outputs": [],
   "source": [
    "node_anc = ts.sample_count_stat(\n",
    "        [ts.individual(n).nodes for n in target_indivs],\n",
    "        lambda x: x/2, # 2 for diploidy\n",
    "        2,\n",
    "        polarised=True,\n",
    "        strict=False,\n",
    "        mode='node'\n",
    ")"
   ]
  },
  {
   "cell_type": "code",
   "execution_count": 13,
   "id": "15951b4e-c85c-4dd2-b2f5-ec84a43f98e7",
   "metadata": {},
   "outputs": [],
   "source": [
    "indiv_anc = np.zeros((ts.num_individuals, len(target_indivs)))\n",
    "for n in ts.nodes():\n",
    "    if n.individual >= 0:\n",
    "        indiv_anc[n.individual] += node_anc[n.id]"
   ]
  },
  {
   "cell_type": "code",
   "execution_count": 18,
   "id": "1dd8137a-32cb-4462-958d-933ae9220893",
   "metadata": {},
   "outputs": [],
   "source": [
    "tts = list(set(indiv_times))\n",
    "tts.sort()"
   ]
  },
  {
   "cell_type": "code",
   "execution_count": 47,
   "id": "11ca0e4a-49ef-4e94-8eb4-dda8554a0010",
   "metadata": {},
   "outputs": [],
   "source": [
    "all_times = []\n",
    "all_locs1 = []\n",
    "all_locs2 = []\n",
    "all_anc_props = []\n",
    "all_inds = []\n",
    "for k, ind in enumerate(target_indivs):\n",
    "    j = 0\n",
    "    for target_time in tts:\n",
    "        anc_indivs = np.where(np.logical_and(\n",
    "            indiv_times == target_time,\n",
    "            indiv_pops == 1 # exclude dummy indiv in pop 2\n",
    "        ))[0]\n",
    "        assert len(anc_indivs) > 0\n",
    "        anc_props = indiv_anc[anc_indivs, k]\n",
    "        locs1 = indiv_locs[anc_indivs, 0]\n",
    "        locs2 = indiv_locs[anc_indivs, 1]\n",
    "        all_times.extend(np.repeat(target_time, len(locs1)))\n",
    "        all_inds.extend(np.repeat(ind, len(locs1)))\n",
    "        all_locs1.extend(locs1)\n",
    "        all_locs2.extend(locs2)\n",
    "        all_anc_props.extend(anc_props)\n",
    "        j += 1"
   ]
  },
  {
   "cell_type": "code",
   "execution_count": 50,
   "id": "7c85ba53-7ba6-448c-947b-5e4dd1b4cd00",
   "metadata": {},
   "outputs": [],
   "source": [
    "output = pd.DataFrame({'ind': all_inds, 'anc_prop': all_anc_props, 'loc1': all_locs1, 'loc2': all_locs2, 'time': all_times})\n",
    "output.to_csv(\"data_for_ancestry_plot.csv\", index = False)"
   ]
  },
  {
   "cell_type": "code",
   "execution_count": 61,
   "id": "8c8a4aad-fa60-4f16-a367-3feec78b2b94",
   "metadata": {},
   "outputs": [
    {
     "name": "stdout",
     "output_type": "stream",
     "text": [
      "[[108.93629419 152.64246186   0.        ]\n",
      " [109.15236551 151.98279078   0.        ]\n",
      " [108.96681187 152.27507954   0.        ]\n",
      " ...\n",
      " [134.64343052  66.73142764   0.        ]\n",
      " [134.2587588   68.70479536   0.        ]\n",
      " [134.2587588   68.70479536   0.        ]]\n"
     ]
    }
   ],
   "source": [
    "print(indiv_locs[:,:])"
   ]
  },
  {
   "cell_type": "code",
   "execution_count": 65,
   "id": "e625e32b-6f49-4f4a-af45-9cdecfac8ca5",
   "metadata": {},
   "outputs": [
    {
     "name": "stdout",
     "output_type": "stream",
     "text": [
      "          time        loc1        loc2\n",
      "0          0.0  108.936294  152.642462\n",
      "1          0.0  109.152366  151.982791\n",
      "2          0.0  108.966812  152.275080\n",
      "3          0.0  108.936294  152.642462\n",
      "4          0.0  108.936294  152.642462\n",
      "...        ...         ...         ...\n",
      "214553  2250.0  136.606512   67.608720\n",
      "214554  2250.0  134.643431   66.731428\n",
      "214555  2250.0  134.643431   66.731428\n",
      "214556  2250.0  134.258759   68.704795\n",
      "214557  2250.0  134.258759   68.704795\n",
      "\n",
      "[214558 rows x 3 columns]\n"
     ]
    }
   ],
   "source": [
    "# Write out locations over time of all individuals\n",
    "indiv_output = pd.DataFrame({'time': indiv_times, 'loc1': indiv_locs[:,0], 'loc2': indiv_locs[:,1]})\n",
    "print(indiv_output)\n",
    "indiv_output.to_csv(\"data_for_all_inds.csv\", index = False)"
   ]
  }
 ],
 "metadata": {
  "kernelspec": {
   "display_name": "Python 3 (ipykernel)",
   "language": "python",
   "name": "python3"
  },
  "language_info": {
   "codemirror_mode": {
    "name": "ipython",
    "version": 3
   },
   "file_extension": ".py",
   "mimetype": "text/x-python",
   "name": "python",
   "nbconvert_exporter": "python",
   "pygments_lexer": "ipython3",
   "version": "3.11.0"
  }
 },
 "nbformat": 4,
 "nbformat_minor": 5
}
